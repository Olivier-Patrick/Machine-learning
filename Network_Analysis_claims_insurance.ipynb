{
  "nbformat": 4,
  "nbformat_minor": 0,
  "metadata": {
    "colab": {
      "provenance": [],
      "authorship_tag": "ABX9TyOOYFZTlNVEajmm3fFbrSEb",
      "include_colab_link": true
    },
    "kernelspec": {
      "name": "python3",
      "display_name": "Python 3"
    },
    "language_info": {
      "name": "python"
    }
  },
  "cells": [
    {
      "cell_type": "markdown",
      "metadata": {
        "id": "view-in-github",
        "colab_type": "text"
      },
      "source": [
        "<a href=\"https://colab.research.google.com/github/Olivier-Patrick/Machine-learning/blob/master/Network_Analysis_claims_insurance.ipynb\" target=\"_parent\"><img src=\"https://colab.research.google.com/assets/colab-badge.svg\" alt=\"Open In Colab\"/></a>"
      ]
    },
    {
      "cell_type": "code",
      "metadata": {
        "id": "h7NPfv2RHPvI"
      },
      "source": [
        "import pandas as pd\n",
        "import os\n",
        "import time\n",
        "#from numba import jit\n",
        "import itertools\n",
        "from glob import glob\n",
        "import numpy as np\n",
        "import matplotlib.pyplot as plt\n",
        "import networkx as nx\n",
        "from networkx.algorithms.community import k_clique_communities\n",
        "from networkx.drawing.nx_agraph import graphviz_layout\n",
        "from networkx.classes.function import path_weight"
      ],
      "execution_count": null,
      "outputs": []
    },
    {
      "cell_type": "code",
      "metadata": {
        "id": "zQLPMqatHWYC"
      },
      "source": [
        "data_network= pd.read_csv(\"/content/network_data.csv\")"
      ],
      "execution_count": null,
      "outputs": []
    },
    {
      "cell_type": "code",
      "metadata": {
        "id": "S4b_sZFWHtCU"
      },
      "source": [
        "claim_fraud = [x for x in data_network[data_network['fraud']=='Yes'].ClaimID]\n",
        "claim_no_fraud = [x for x in data_network[data_network['fraud']=='No'].ClaimID]\n",
        "claims =  claim_fraud + claim_no_fraud"
      ],
      "execution_count": null,
      "outputs": []
    },
    {
      "cell_type": "code",
      "metadata": {
        "id": "19_iov4jXfDO"
      },
      "source": [
        "# Construction du réseau\n",
        "def construct_network(data):\n",
        "    zipped = zip(data.ClaimID, data.BeneID, data.Provider, data.AttendingPhysician )\n",
        "    G = nx.Graph()\n",
        "    for i, elmt in enumerate(list(zipped)):\n",
        "        k, e1, e2, e3 = elmt\n",
        "        G.add_node(k, bipartite=0)\n",
        "        for node in [e1, e2, e3]:\n",
        "            G.add_node(node, bipartite=1)\n",
        "            G.add_edge(k, node,weight=1)\n",
        "    return G\n",
        "\n",
        "graph = construct_network(data_network)"
      ],
      "execution_count": null,
      "outputs": []
    },
    {
      "cell_type": "code",
      "metadata": {
        "id": "pAOz1rvlXuYJ"
      },
      "source": [
        "def get_colors_graph(data):\n",
        "    claim_fraud = [x for x in data[data['fraud']=='Yes'].ClaimID]\n",
        "    claim_normal = [x for x in data[data['fraud']=='No'].ClaimID]\n",
        "    color = []\n",
        "    for node in list(graph.nodes()):\n",
        "        if node in claim_fraud:\n",
        "            color.append('red')\n",
        "        elif node in  claim_normal:\n",
        "            color.append('green')\n",
        "        else :\n",
        "            color.append('blue')\n",
        "    return color"
      ],
      "execution_count": null,
      "outputs": []
    },
    {
      "cell_type": "code",
      "metadata": {
        "id": "jUOtTuzZXzSq"
      },
      "source": [
        "color = get_colors_graph(data_network)"
      ],
      "execution_count": null,
      "outputs": []
    },
    {
      "cell_type": "code",
      "metadata": {
        "id": "9NawlUKaX4T6"
      },
      "source": [
        "def get_communities(G, k_clique):\n",
        "    cls = nx.find_cliques(G)\n",
        "    communities = list(k_clique_communities(G,k_clique ,cliques = cls))\n",
        "    return communities"
      ],
      "execution_count": null,
      "outputs": []
    },
    {
      "cell_type": "code",
      "metadata": {
        "id": "TljbUzjmX9AX"
      },
      "source": [
        "def get_color_community(communities,fraud, no_fraud):\n",
        "\n",
        "    color = []\n",
        "    for node in list(communities):\n",
        "        if node in fraud:\n",
        "            color.append('red')\n",
        "        elif node in  no_fraud:\n",
        "            color.append('green')\n",
        "        else :\n",
        "            color.append('blue')\n",
        "    return color"
      ],
      "execution_count": null,
      "outputs": []
    },
    {
      "cell_type": "code",
      "metadata": {
        "id": "el1c9T5eYAzX"
      },
      "source": [
        "def plot_single_community(graph,community, fraud, no_fraud):\n",
        "\n",
        "    # positions pour tous les noeuds\n",
        "    pos = nx.spring_layout(graph)\n",
        "\n",
        "\n",
        "    plt.figure(figsize=(12,12))\n",
        "\n",
        "    colors = get_color_community(community,fraud,no_fraud)\n",
        "    nx.draw_networkx_nodes(graph,pos,nodelist=list(community),node_color=colors)\n",
        "\n",
        "    nx.draw_networkx_edges(graph,pos,width=0.5)\n",
        "    # labels\n",
        "    nx.draw_networkx_labels(graph,pos,font_size=10,font_family='sans-serif')\n",
        "\n",
        "    plt.axis('off')\n",
        "    plt.show()"
      ],
      "execution_count": null,
      "outputs": []
    },
    {
      "cell_type": "code",
      "metadata": {
        "id": "G6yfg4GPYHX3"
      },
      "source": [
        "communities = get_communities(graph,2)"
      ],
      "execution_count": null,
      "outputs": []
    },
    {
      "cell_type": "code",
      "metadata": {
        "colab": {
          "base_uri": "https://localhost:8080/"
        },
        "id": "ubeHXZ08YKoi",
        "outputId": "91a07645-781e-4c2e-ff49-f90343cdd7d0"
      },
      "source": [
        "community = []\n",
        "for c in communities:\n",
        "    if len(list(c)) > 4:\n",
        "        community.append(c)\n",
        "print(len(community))"
      ],
      "execution_count": null,
      "outputs": [
        {
          "output_type": "stream",
          "text": [
            "74\n"
          ],
          "name": "stdout"
        }
      ]
    },
    {
      "cell_type": "code",
      "metadata": {
        "id": "jiZtFyiGYNgj"
      },
      "source": [
        "def AllPaths(graph):\n",
        "    #all_paths = []\n",
        "    #nodes_combs = itertools.combinations(graph.nodes, 2)\n",
        "    #all_paths = [ nx.all_simple_paths(graph, source=source, target=target)[:]\n",
        "                 #for source, target in itertools.combinations(graph.nodes, 2) ]\n",
        "        #paths = nx.all_simple_paths(graph, source=source, target=target)\n",
        "        #all_paths += nx.all_simple_paths(graph, source=source, target=target)\n",
        "        #print(len(all_paths))\n",
        "\n",
        "        #for path in paths:\n",
        "            #if path not in all_paths and path[::-1] not in all_paths:\n",
        "                #all_paths.append(path)\n",
        "    return [ i for source, target in itertools.combinations(graph.nodes, 2)\n",
        "            for i in nx.all_simple_paths(graph, source=source, target=target)]"
      ],
      "execution_count": null,
      "outputs": []
    },
    {
      "cell_type": "code",
      "metadata": {
        "id": "v3svURZxYTrD"
      },
      "source": [
        "def SOWOP(graph,path):\n",
        "    return path_weight(graph, path,'weight')"
      ],
      "execution_count": null,
      "outputs": []
    },
    {
      "cell_type": "code",
      "metadata": {
        "id": "SH0rOQW4YXOC"
      },
      "source": [
        "def AOWOP(all_paths):\n",
        "    return sum([path_weight(graph, path,'weight') for path in all_paths])/len(all_paths)"
      ],
      "execution_count": null,
      "outputs": []
    },
    {
      "cell_type": "code",
      "metadata": {
        "id": "WwBeMr57Yakb"
      },
      "source": [
        "def PathElement(graph,i,F,all_paths):\n",
        "    paths = nx.all_simple_paths(graph, source=i, target=F)\n",
        "    aowop = AOWOP(all_paths)\n",
        "    return sum([1 if SOWOP(graph,path)> aowop else SOWOP(graph,path)/aowop for path in paths])"
      ],
      "execution_count": null,
      "outputs": []
    },
    {
      "cell_type": "code",
      "metadata": {
        "id": "O0r-9DwaYeZ2"
      },
      "source": [
        "def PathElements(graph,i,claim_fraud,all_paths):\n",
        "    return sum([PathElement(graph,i,F,all_paths) for F in claim_fraud])/len(all_paths)"
      ],
      "execution_count": null,
      "outputs": []
    },
    {
      "cell_type": "code",
      "metadata": {
        "id": "ugH1qxnfYi4D"
      },
      "source": [
        "def WOIE(path):\n",
        "    return sum([i[1] for i in list(graph.degree(path))])"
      ],
      "execution_count": null,
      "outputs": []
    },
    {
      "cell_type": "code",
      "metadata": {
        "id": "Iet6KNTsYmm4"
      },
      "source": [
        "def AOWOE(graph):\n",
        "    return sum([i[1] for i in list(graph.degree(list(graph.nodes())))])/len(list(graph.nodes()))"
      ],
      "execution_count": null,
      "outputs": []
    },
    {
      "cell_type": "code",
      "metadata": {
        "id": "5dN4vfEMYqky"
      },
      "source": [
        "def DegreeElement(graph,i,F):\n",
        "    paths = nx.all_simple_paths(graph, source=i, target=F)\n",
        "    aowoe = AOWOE(graph)\n",
        "    return sum([0 if WOIE(path)/(aowoe*(path_weight(graph, path,'weight'))) >= 1 else 1/WOIE(path)/(aowoe*(path_weight(graph, path,'weight'))) for path in paths ])\n"
      ],
      "execution_count": null,
      "outputs": []
    },
    {
      "cell_type": "code",
      "metadata": {
        "id": "0pjU8V2iYum_"
      },
      "source": [
        "def DegreeElements(graph,i,claim_fraud,all_paths):\n",
        "    return sum([DegreeElement(graph,i,F) for F in claim_fraud])/len(all_paths)"
      ],
      "execution_count": null,
      "outputs": []
    },
    {
      "cell_type": "code",
      "metadata": {
        "id": "oY3a-ewgYyWJ"
      },
      "source": [
        "def EndPointElements(graph,i):\n",
        "    return len([l  for l in list(graph.neighbors(i)) if l in claim_fraud])/len(list(graph.neighbors(i)))"
      ],
      "execution_count": null,
      "outputs": []
    },
    {
      "cell_type": "code",
      "metadata": {
        "id": "yvFFX8geY1ms"
      },
      "source": [
        "def fake_score(graph,i,claim_fraud,all_paths,A=0.5,B= 0.1):\n",
        "\n",
        "    return A*PathElements(graph,i,claim_fraud,all_paths) + \\\n",
        "           B*DegreeElements(graph,i,claim_fraud,all_paths) + \\\n",
        "           (1-(A+B))*EndPointElements(graph,i)"
      ],
      "execution_count": null,
      "outputs": []
    },
    {
      "cell_type": "code",
      "metadata": {
        "id": "ITOsGT5WY5Bz"
      },
      "source": [
        "def score_fraud_community(graph,community,claims,claim_fraud,all_paths):\n",
        "    c = [x for x in list(community) if x not in claims ] # all node that not claims\n",
        "    return sum([fake_score(graph,p,claim_fraud,all_chemins) for p in c])/len(c)"
      ],
      "execution_count": null,
      "outputs": []
    },
    {
      "cell_type": "code",
      "metadata": {
        "colab": {
          "base_uri": "https://localhost:8080/"
        },
        "id": "DMGHIErsY8ti",
        "outputId": "7c344236-680f-4bb9-8cc4-a22ca9d5d9f3"
      },
      "source": [
        "all_chemins = AllPaths(graph)\n",
        "len(all_chemins)"
      ],
      "execution_count": null,
      "outputs": [
        {
          "output_type": "execute_result",
          "data": {
            "text/plain": [
              "5982"
            ]
          },
          "metadata": {
            "tags": []
          },
          "execution_count": 29
        }
      ]
    },
    {
      "cell_type": "code",
      "metadata": {
        "id": "i9yJ4PivZCF6"
      },
      "source": [
        "fs=[score_fraud_community(graph,j,claims,claim_fraud,all_chemins) for j in community]"
      ],
      "execution_count": null,
      "outputs": []
    },
    {
      "cell_type": "code",
      "metadata": {
        "id": "xupsHoWhjC8j"
      },
      "source": [
        "nombre_fraud = []\n",
        "nombre_noeuds = []\n",
        "for c in community:\n",
        "  nombre_noeuds.append(len(list(c)))\n",
        "  s = 0\n",
        "  for i in c :\n",
        "    if i in claim_fraud:\n",
        "       s += 1\n",
        "  nombre_fraud.append(s)"
      ],
      "execution_count": null,
      "outputs": []
    },
    {
      "cell_type": "code",
      "metadata": {
        "id": "TYn9LMiKkw6g"
      },
      "source": [
        "df = pd.DataFrame(list(zip(nombre_noeuds, nombre_fraud,fs)), columns = ['nbr_noeuds', 'nbr_fraud','fake_score'])"
      ],
      "execution_count": null,
      "outputs": []
    },
    {
      "cell_type": "code",
      "metadata": {
        "colab": {
          "base_uri": "https://localhost:8080/",
          "height": 283
        },
        "id": "ANciDiS_k0s9",
        "outputId": "e33ca03b-d95a-4cac-b056-4dbeab40ad1f"
      },
      "source": [
        "#plt.scatter(df.nbr_fraud, df.fake_score)\n",
        "plt.scatter(df.nbr_fraud, df.nbr_fraud/df.nbr_noeuds)"
      ],
      "execution_count": null,
      "outputs": [
        {
          "output_type": "execute_result",
          "data": {
            "text/plain": [
              "<matplotlib.collections.PathCollection at 0x7f2502d5fc50>"
            ]
          },
          "metadata": {
            "tags": []
          },
          "execution_count": 33
        },
        {
          "output_type": "display_data",
          "data": {
            "image/png": "[encoded data removed]",
            "text/plain": [
              "<Figure size 432x288 with 1 Axes>"
            ]
          },
          "metadata": {
            "tags": [],
            "needs_background": "light"
          }
        }
      ]
    },
    {
      "cell_type": "code",
      "metadata": {
        "colab": {
          "base_uri": "https://localhost:8080/",
          "height": 283
        },
        "id": "39NXRXQok8YW",
        "outputId": "98cd0c15-f6f6-4235-a9cd-a41c09f777e7"
      },
      "source": [
        "plt.scatter(df.nbr_fraud, df.fake_score)"
      ],
      "execution_count": null,
      "outputs": [
        {
          "output_type": "execute_result",
          "data": {
            "text/plain": [
              "<matplotlib.collections.PathCollection at 0x7f2502d52ed0>"
            ]
          },
          "metadata": {
            "tags": []
          },
          "execution_count": 34
        },
        {
          "output_type": "display_data",
          "data": {
            "image/png": "[encoded data removed]",
            "text/plain": [
              "<Figure size 432x288 with 1 Axes>"
            ]
          },
          "metadata": {
            "tags": [],
            "needs_background": "light"
          }
        }
      ]
    },
    {
      "cell_type": "code",
      "metadata": {
        "id": "ScP1fUviqAqp"
      },
      "source": [
        "df.to_csv(\"analysis_network_fraud.csv\")"
      ],
      "execution_count": null,
      "outputs": []
    },
    {
      "cell_type": "code",
      "metadata": {
        "id": "yOEQiMr8sa6p"
      },
      "source": [],
      "execution_count": null,
      "outputs": []
    }
  ]
}